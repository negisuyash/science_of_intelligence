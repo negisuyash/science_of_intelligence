{
 "cells": [
  {
   "cell_type": "markdown",
   "metadata": {},
   "source": [
    "# REGRESSION \n",
    "\n",
    "\n",
    "GIVEN BODY-BRAIN WEIGHT OF ANIMALS , FIND THE RELATION BETWEEN BRAIN AND BODY WEIGHT AND CALCULATE BRAIN WEIGHT FOR GIVEN BODY WEIGHT BY USER."
   ]
  },
  {
   "cell_type": "code",
   "execution_count": 11,
   "metadata": {},
   "outputs": [],
   "source": [
    "#dependecies\n",
    "from sklearn.linear_model import LinearRegression as LR\n",
    "from matplotlib import pyplot as plt\n",
    "\n",
    "import numpy as np"
   ]
  },
  {
   "cell_type": "code",
   "execution_count": 12,
   "metadata": {},
   "outputs": [],
   "source": [
    "#data for machine\n",
    "body_data=np.array([[20],[40],[115],[15],[44],[250],[5]]) #THIS ARRAY HOLDS [\"BODY WEIGHT\"] FOR DIFFERENT ANIMALS\n",
    "brain_data=np.array([[4],[12],[16],[2],[12],[34],[1]])  #THIS ARRAY HOLDS [\"BRAIN WEIGHT\"] FOR DIFFERENT ANIMALS"
   ]
  },
  {
   "cell_type": "markdown",
   "metadata": {},
   "source": [
    "# DEFINING_MODEL"
   ]
  },
  {
   "cell_type": "code",
   "execution_count": 13,
   "metadata": {},
   "outputs": [],
   "source": [
    "model=LR()\n",
    "model=model.fit(body_data,brain_data) #training of data"
   ]
  },
  {
   "cell_type": "markdown",
   "metadata": {},
   "source": [
    "# VISUALIZATION"
   ]
  },
  {
   "cell_type": "code",
   "execution_count": 14,
   "metadata": {},
   "outputs": [
    {
     "data": {
      "image/png": "[encoded data removed]",
      "text/plain": [
       "<Figure size 432x288 with 1 Axes>"
      ]
     },
     "metadata": {
      "needs_background": "light"
     },
     "output_type": "display_data"
    }
   ],
   "source": [
    "plt.scatter(body_data,brain_data,c='r')\n",
    "plt.plot(body_data,model.predict(body_data))\n",
    "plt.xlabel(\"BODY WEIGHT\")\n",
    "plt.ylabel(\"BRAIN WEIGHT\")\n",
    "plt.title(\"RELATION BETWEEN BRAIN AND BODY WEIGHT\")\n",
    "plt.show()\n"
   ]
  },
  {
   "cell_type": "code",
   "execution_count": 15,
   "metadata": {},
   "outputs": [
    {
     "name": "stdout",
     "output_type": "stream",
     "text": [
      "ENTER THE BODY WEIGHT:65\n"
     ]
    }
   ],
   "source": [
    "body_w=int(input(\"ENTER THE BODY WEIGHT:\"))  #USER INPUT FOR BODY WEIGHT"
   ]
  },
  {
   "cell_type": "code",
   "execution_count": 18,
   "metadata": {},
   "outputs": [
    {
     "name": "stdout",
     "output_type": "stream",
     "text": [
      "BRAIN WEIGHT FOR GIVEN BODY WEIGHT IS: [[10.95518585]]\n"
     ]
    }
   ],
   "source": [
    "print(\"BRAIN WEIGHT FOR GIVEN BODY WEIGHT IS: \"+str(model.predict([[body_w]]))) #OUTPUT OF THE GIVEN OUTPUT"
   ]
  },
  {
   "cell_type": "code",
   "execution_count": null,
   "metadata": {},
   "outputs": [],
   "source": []
  },
  {
   "cell_type": "code",
   "execution_count": null,
   "metadata": {},
   "outputs": [],
   "source": []
  }
 ],
 "metadata": {
  "kernelspec": {
   "display_name": "Python 3",
   "language": "python",
   "name": "python3"
  },
  "language_info": {
   "codemirror_mode": {
    "name": "ipython",
    "version": 3
   },
   "file_extension": ".py",
   "mimetype": "text/x-python",
   "name": "python",
   "nbconvert_exporter": "python",
   "pygments_lexer": "ipython3",
   "version": "3.7.1"
  }
 },
 "nbformat": 4,
 "nbformat_minor": 2
}
