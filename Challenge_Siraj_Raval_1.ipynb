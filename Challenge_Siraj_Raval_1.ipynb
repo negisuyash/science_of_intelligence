{
 "cells": [
  {
   "cell_type": "markdown",
   "metadata": {},
   "source": [
    "# CHALLANGE PROBLEM (CHANNEL:SIRAJ RAVAL)"
   ]
  },
  {
   "cell_type": "code",
   "execution_count": 3,
   "metadata": {},
   "outputs": [],
   "source": [
    "from sklearn.linear_model import LinearRegression as LR\n",
    "import numpy as np\n",
    "import pandas as pd\n",
    "from matplotlib import pyplot as plt"
   ]
  },
  {
   "cell_type": "code",
   "execution_count": 4,
   "metadata": {},
   "outputs": [],
   "source": [
    "#READING DATA FROM FILE\n",
    "data=pd.read_fwf(\"challenge_siraj_raval_1_dataset.txt\",skipinitail=True)\n",
    "x_data=data[['Brain']]\n",
    "y_data=data[['Body']]"
   ]
  },
  {
   "cell_type": "markdown",
   "metadata": {},
   "source": [
    "# TRAINING OF MODEL AND PREDICTING VALUE"
   ]
  },
  {
   "cell_type": "code",
   "execution_count": 5,
   "metadata": {},
   "outputs": [],
   "source": [
    "model=LR()\n",
    "model=model.fit(x_data,y_data)\n",
    "pred=model.predict(x_data)"
   ]
  },
  {
   "cell_type": "markdown",
   "metadata": {},
   "source": [
    "# VISUALIZATION"
   ]
  },
  {
   "cell_type": "code",
   "execution_count": 9,
   "metadata": {},
   "outputs": [
    {
     "data": {
      "image/png": "[encoded data removed]",
      "text/plain": [
       "<Figure size 432x288 with 1 Axes>"
      ]
     },
     "metadata": {
      "needs_background": "light"
     },
     "output_type": "display_data"
    }
   ],
   "source": [
    "plt.scatter(x_data,y_data,c='r')\n",
    "plt.plot(x_data,pred,c='b')\n",
    "plt.show()"
   ]
  },
  {
   "cell_type": "markdown",
   "metadata": {},
   "source": [
    "# OUTPUT FOR CHALLENGE"
   ]
  },
  {
   "cell_type": "code",
   "execution_count": 10,
   "metadata": {},
   "outputs": [
    {
     "name": "stdout",
     "output_type": "stream",
     "text": [
      "ERROR IN PREDICTION IS :\n",
      "         Body\n",
      "0   14.198226\n",
      "1    6.431249\n",
      "2    7.394804\n",
      "3    7.394728\n",
      "4    3.728142\n",
      "5    5.780699\n",
      "6   -0.675516\n",
      "7    5.661819\n",
      "8    2.756226\n",
      "9    1.682073\n",
      "10   0.334924\n",
      "11   2.502652\n",
      "12   0.210026\n",
      "13   1.090077\n",
      "14  -2.117584\n",
      "15   0.990876\n",
      "16   1.606445\n",
      "17  -1.663831\n",
      "18  -0.123148\n",
      "19   0.849379\n",
      "20  -0.349424\n",
      "21   1.479989\n",
      "22   1.608907\n",
      "23   1.536031\n",
      "24   0.339168\n",
      "25   3.931758\n",
      "26   2.092545\n",
      "27  -2.129589\n",
      "28   2.868370\n",
      "29   1.553855\n",
      "..        ...\n",
      "67  -0.540712\n",
      "68  -1.647888\n",
      "69   0.620284\n",
      "70  -1.516908\n",
      "71  -0.828624\n",
      "72  -1.991418\n",
      "73  -1.383861\n",
      "74  -4.782180\n",
      "75  -3.619304\n",
      "76  -1.213523\n",
      "77   3.588467\n",
      "78  -1.608847\n",
      "79  -0.140277\n",
      "80  -2.459817\n",
      "81  -2.089945\n",
      "82  -3.008173\n",
      "83  -0.215107\n",
      "84   1.465693\n",
      "85  -2.024025\n",
      "86  -0.258407\n",
      "87  -2.337857\n",
      "88  -2.538242\n",
      "89   0.681146\n",
      "90  -1.068597\n",
      "91  -0.919040\n",
      "92   4.094738\n",
      "93  -0.446840\n",
      "94  -5.853984\n",
      "95  -3.028612\n",
      "96  -1.973574\n",
      "\n",
      "[97 rows x 1 columns]\n"
     ]
    }
   ],
   "source": [
    "#printing error for each predicition\n",
    "error=y_data-pred\n",
    "print(\"ERROR IN PREDICTION IS :\")\n",
    "print(error)"
   ]
  },
  {
   "cell_type": "code",
   "execution_count": null,
   "metadata": {},
   "outputs": [],
   "source": []
  }
 ],
 "metadata": {
  "kernelspec": {
   "display_name": "Python 3",
   "language": "python",
   "name": "python3"
  },
  "language_info": {
   "codemirror_mode": {
    "name": "ipython",
    "version": 3
   },
   "file_extension": ".py",
   "mimetype": "text/x-python",
   "name": "python",
   "nbconvert_exporter": "python",
   "pygments_lexer": "ipython3",
   "version": "3.7.1"
  }
 },
 "nbformat": 4,
 "nbformat_minor": 2
}
